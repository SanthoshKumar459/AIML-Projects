{
 "cells": [
  {
   "cell_type": "markdown",
   "metadata": {
    "colab_type": "text",
    "id": "xx5CxeVubU3W"
   },
   "source": [
    "# Hypothesis Testing"
   ]
  },
  {
   "cell_type": "markdown",
   "metadata": {
    "colab_type": "text",
    "id": "6OR23eWKbU3X"
   },
   "source": [
    "The purpose of the test is to tell if there is any significant difference between two data sets.\n",
    "\n"
   ]
  },
  {
   "cell_type": "markdown",
   "metadata": {
    "colab_type": "text",
    "id": "604OoWnTbU3Z"
   },
   "source": [
    "## Overview"
   ]
  },
  {
   "cell_type": "markdown",
   "metadata": {
    "colab_type": "text",
    "id": "o-il1iBSbU3b"
   },
   "source": [
    "This module covers,\n",
    "\n",
    "1) One sample and Two sample t-tests\n",
    "\n",
    "2) ANOVA\n",
    "\n",
    "3) Type I and Type II errors\n",
    "\n",
    "4) Chi-Squared Tests"
   ]
  },
  {
   "cell_type": "markdown",
   "metadata": {
    "colab_type": "text",
    "id": "G2yYl5cvbU3c"
   },
   "source": [
    "## Question 1 \n",
    "\n",
    "*A student is trying to decide between two GPUs. He want to use the GPU for his research to run Deep learning algorithms, so the only thing he is concerned with is speed.*\n",
    "\n",
    "*He picks a Deep Learning algorithm on a large data set and runs it on both GPUs 15 times, timing each run in hours. Results are given in the below lists GPU1 and GPU2.*"
   ]
  },
  {
   "cell_type": "code",
   "execution_count": 20,
   "metadata": {
    "colab": {},
    "colab_type": "code",
    "id": "ohh5XJ4ZbU3d"
   },
   "outputs": [],
   "source": [
    "from scipy import stats \n",
    "import numpy as np\n",
    "import pandas as pd"
   ]
  },
  {
   "cell_type": "code",
   "execution_count": 21,
   "metadata": {
    "colab": {},
    "colab_type": "code",
    "id": "6yGkYI6EbU3i"
   },
   "outputs": [],
   "source": [
    "GPU1 = np.array([11,9,10,11,10,12,9,11,12,9,11,12,9,10,9])\n",
    "GPU2 = np.array([11,13,10,13,12,9,11,12,12,11,12,12,10,11,13])\n",
    "\n",
    "#Assumption: Both the datasets (GPU1 & GPU 2) are random, independent, parametric & normally distributed"
   ]
  },
  {
   "cell_type": "markdown",
   "metadata": {
    "colab_type": "text",
    "id": "L55jqmIXbU3m"
   },
   "source": [
    "Hint: You can import ttest function from scipy to perform t tests "
   ]
  },
  {
   "cell_type": "markdown",
   "metadata": {
    "colab_type": "text",
    "id": "v8fsIhPFbU3n"
   },
   "source": [
    "**First T test**\n",
    "\n",
    "*One sample t-test*\n",
    "\n",
    "Check if the mean of the GPU1 is equal to zero.\n",
    "- Null Hypothesis is that mean is equal to zero.\n",
    "- Alternate hypothesis is that it is not equal to zero."
   ]
  },
  {
   "cell_type": "code",
   "execution_count": 22,
   "metadata": {
    "colab": {},
    "colab_type": "code",
    "id": "wgMSWwApbU3o"
   },
   "outputs": [],
   "source": [
    "from scipy.stats import ttest_1samp, ttest_ind,levene, f_oneway, chisquare, chi2_contingency,zscore, ttest_rel, norm"
   ]
  },
  {
   "cell_type": "code",
   "execution_count": 23,
   "metadata": {},
   "outputs": [
    {
     "data": {
      "text/plain": [
       "7.228892044970457e-15"
      ]
     },
     "execution_count": 23,
     "metadata": {},
     "output_type": "execute_result"
    }
   ],
   "source": [
    "t_statistic, p_value = ttest_1samp(GPU1,0)\n",
    "\n",
    "p_value"
   ]
  },
  {
   "cell_type": "markdown",
   "metadata": {},
   "source": [
    "As the p_value is far less than 0.05. Reject the null hypoyhesis i.e.the mean value of the GPU1 is equal to zero."
   ]
  },
  {
   "cell_type": "markdown",
   "metadata": {
    "colab_type": "text",
    "id": "byu8iw46bU3v"
   },
   "source": [
    "## Question 2"
   ]
  },
  {
   "cell_type": "markdown",
   "metadata": {
    "colab_type": "text",
    "id": "E65pzWcJbU3w"
   },
   "source": [
    "Given,\n",
    "\n",
    "Null Hypothesis : There is no significant difference between data sets\n",
    "\n",
    "Alternate Hypothesis : There is a significant difference\n",
    "\n",
    "*Do two-sample testing and check whether to reject Null Hypothesis or not.*"
   ]
  },
  {
   "cell_type": "markdown",
   "metadata": {
    "colab_type": "text",
    "id": "N-zpWvyXbU32"
   },
   "source": [
    "https://docs.scipy.org/doc/scipy/reference/generated/scipy.stats.ttest_ind.html"
   ]
  },
  {
   "cell_type": "code",
   "execution_count": 24,
   "metadata": {
    "colab": {},
    "colab_type": "code",
    "id": "UDDkuOtObU3x"
   },
   "outputs": [
    {
     "data": {
      "text/plain": [
       "0.013794282041452725"
      ]
     },
     "execution_count": 24,
     "metadata": {},
     "output_type": "execute_result"
    }
   ],
   "source": [
    "t_statistic, p_value = ttest_ind(GPU1,GPU2)\n",
    "\n",
    "p_value"
   ]
  },
  {
   "cell_type": "markdown",
   "metadata": {},
   "source": [
    "Conclusion\n",
    "\n",
    "p_value < 0.05\n",
    "\n",
    "Reject Null Hypothesis i.e.There is enough evidence in favour of Alternative Hypothesis."
   ]
  },
  {
   "cell_type": "markdown",
   "metadata": {
    "colab_type": "text",
    "id": "MbXv5aZvbU33"
   },
   "source": [
    "## Question 3\n",
    "\n",
    "He is trying a third GPU - GPU3."
   ]
  },
  {
   "cell_type": "code",
   "execution_count": 25,
   "metadata": {
    "colab": {},
    "colab_type": "code",
    "id": "kkh_sQl4bU34"
   },
   "outputs": [],
   "source": [
    "GPU3 = np.array([9,10,9,11,10,13,12,9,12,12,13,12,13,10,11])\n",
    "\n",
    "#Assumption: Both the datasets (GPU1 & GPU 3) are random, independent, parametric & normally distributed"
   ]
  },
  {
   "cell_type": "markdown",
   "metadata": {
    "colab_type": "text",
    "id": "WoYNz3g7bU37"
   },
   "source": [
    "*Do two-sample testing and check whether there is significant differene between speeds of two GPUs GPU1 and GPU3.*\n",
    "\n",
    "#### Answer:"
   ]
  },
  {
   "cell_type": "markdown",
   "metadata": {},
   "source": [
    "H0 : There is significant difference between speeds of GPU1, GPU2                                                             H1 : There is no significant difference between speeds of GPU1, GPU2"
   ]
  },
  {
   "cell_type": "code",
   "execution_count": 26,
   "metadata": {
    "colab": {},
    "colab_type": "code",
    "id": "X4N11XArbU38"
   },
   "outputs": [
    {
     "data": {
      "text/plain": [
       "Ttest_indResult(statistic=-1.4988943759093303, pvalue=0.14509210993138993)"
      ]
     },
     "execution_count": 26,
     "metadata": {},
     "output_type": "execute_result"
    }
   ],
   "source": [
    "ttest_ind(GPU1,GPU3)"
   ]
  },
  {
   "cell_type": "markdown",
   "metadata": {},
   "source": [
    "Conclusion\n",
    "1. pvalue > 0.05\n",
    "2. Do not reject null hypothesis."
   ]
  },
  {
   "cell_type": "markdown",
   "metadata": {
    "colab_type": "text",
    "id": "oyDFS4WZbU4A"
   },
   "source": [
    "## ANOVA"
   ]
  },
  {
   "cell_type": "markdown",
   "metadata": {
    "colab_type": "text",
    "id": "wknPzstFbU4B"
   },
   "source": [
    "## Question 4 \n",
    "\n",
    "If you need to compare more than two data sets at a time, an ANOVA is your best bet. \n",
    "\n",
    "*The results from three experiments with overlapping 95% confidence intervals are given below, and we want to confirm that the results for all three experiments are not significantly different.*\n",
    "\n",
    "But before conducting ANOVA, test equality of variances (using Levene's test) is satisfied or not. If not, then mention that we cannot depend on the result of ANOVA"
   ]
  },
  {
   "cell_type": "code",
   "execution_count": 27,
   "metadata": {
    "colab": {},
    "colab_type": "code",
    "id": "kGb0GeK8bU4C"
   },
   "outputs": [],
   "source": [
    "import numpy as np\n",
    "\n",
    "e1 = np.array([1.595440,1.419730,0.000000,0.000000])\n",
    "e2 = np.array([1.433800,2.079700,0.892139,2.384740])\n",
    "e3 = np.array([0.036930,0.938018,0.995956,1.006970])\n",
    "\n",
    "#Assumption: All the 3 datasets (e1,e2 & e3) are random, independent, parametric & normally distributed"
   ]
  },
  {
   "cell_type": "markdown",
   "metadata": {
    "colab_type": "text",
    "id": "_xiYN6gVbU4G"
   },
   "source": [
    "Perform levene test on the data\n",
    "\n",
    "The Levene test tests the null hypothesis that all input samples are from populations with equal variances. Levene’s test is an alternative to Bartlett’s test bartlett in the case where there are significant deviations from normality.\n",
    "\n",
    "source: scipy.org"
   ]
  },
  {
   "cell_type": "markdown",
   "metadata": {
    "colab_type": "text",
    "id": "f2MlJTXgbU4H"
   },
   "source": [
    "#### Answer:"
   ]
  },
  {
   "cell_type": "markdown",
   "metadata": {},
   "source": [
    "H0 : All Variances are equal\n",
    "\n",
    "H1 : All Variances are not equal"
   ]
  },
  {
   "cell_type": "code",
   "execution_count": 28,
   "metadata": {
    "colab": {},
    "colab_type": "code",
    "id": "VUJP_GGQbU4R"
   },
   "outputs": [
    {
     "data": {
      "text/plain": [
       "LeveneResult(statistic=2.6741725711150446, pvalue=0.12259792666001798)"
      ]
     },
     "execution_count": 28,
     "metadata": {},
     "output_type": "execute_result"
    }
   ],
   "source": [
    "levene(e1,e2,e3)"
   ]
  },
  {
   "cell_type": "markdown",
   "metadata": {},
   "source": [
    "Conclusion\n",
    "\n",
    "pvalue > 0.05\n",
    "\n",
    "Do not reject Null Hypothesis. We can depend on the result of ANOVA."
   ]
  },
  {
   "cell_type": "markdown",
   "metadata": {
    "colab_type": "text",
    "id": "FigxGCQtbU4Y"
   },
   "source": [
    "## Question 5\n",
    "\n",
    "The one-way ANOVA tests the null hypothesis that two or more groups have the same population mean. The test is applied to samples from two or more groups, possibly with differing sizes.\n",
    "\n",
    "use stats.f_oneway() module to perform one-way ANOVA test"
   ]
  },
  {
   "cell_type": "markdown",
   "metadata": {},
   "source": [
    "H0: The three groups e1, e2, e3 have the same Population mean.\n",
    "    \n",
    "H1 : The three groups e1, e2, e3 have different population mean."
   ]
  },
  {
   "cell_type": "code",
   "execution_count": 29,
   "metadata": {
    "colab": {},
    "colab_type": "code",
    "id": "P3bPYPCbbU4Z"
   },
   "outputs": [
    {
     "name": "stdout",
     "output_type": "stream",
     "text": [
      "F value 2.51357622845924\n",
      "P value 0.13574644501798466\n"
     ]
    }
   ],
   "source": [
    "f,p = f_oneway(e1,e2,e3)\n",
    "\n",
    "print('F value',f)\n",
    "print('P value',p)"
   ]
  },
  {
   "cell_type": "markdown",
   "metadata": {},
   "source": [
    "Since pvalue > 0.05. Do not reject null hypothesis. We can say that the groups e1, e2, e3 have the same population mean."
   ]
  },
  {
   "cell_type": "markdown",
   "metadata": {
    "colab_type": "text",
    "id": "yrMK1qb7bU4j"
   },
   "source": [
    "## Question 6\n",
    "\n",
    "*In one or two sentences explain about **TypeI** and **TypeII** errors.*\n",
    "\n",
    "#### Answer:"
   ]
  },
  {
   "cell_type": "markdown",
   "metadata": {
    "colab_type": "text",
    "id": "H08OGwdIbU4k"
   },
   "source": [
    "Type-I Error\n",
    "\n",
    "    A Type-I Error occurs when the hypothesis testing concluded to reject the null hypothesis but actually it is not supposed to be rejected. In this scenario, we will take up some corrective measures for the process to which hypothesis testing is conducted even though not required.\n",
    "    \n",
    "Type-II Error\n",
    "\n",
    "    A Type-II Error occurs when the hypothesis testing concluded do not reject the null hypothesis but actually it is supposed to be rejected. In this scenario, we will not take up any corrective measures for the process to which the hypothesis testing is conducted even though required."
   ]
  },
  {
   "cell_type": "markdown",
   "metadata": {
    "colab_type": "text",
    "id": "hm7v3pcIbU4m"
   },
   "source": [
    "## Question 7 \n",
    "\n",
    "You are a manager of a chinese restaurant. You want to determine whether the waiting time to place an order has changed in the past month from its previous population mean value of 4.5 minutes. \n",
    "State the null and alternative hypothesis.\n",
    "\n",
    "#### Answer:\n"
   ]
  },
  {
   "cell_type": "markdown",
   "metadata": {
    "colab_type": "text",
    "id": "pbbaU2I4bU4n"
   },
   "source": [
    "H0 : The waiting time to place an order has changed.(u not equal to 4.5)\n",
    "\n",
    "H1 : The waiting time to place an order has not changed (u is equal to 4.5)"
   ]
  },
  {
   "cell_type": "markdown",
   "metadata": {
    "colab_type": "text",
    "id": "1SGpq-dKbU4r"
   },
   "source": [
    "## Chi square test"
   ]
  },
  {
   "cell_type": "markdown",
   "metadata": {
    "colab_type": "text",
    "id": "WlxmIu_rdgpc"
   },
   "source": [
    "## Question 8"
   ]
  },
  {
   "cell_type": "markdown",
   "metadata": {
    "colab_type": "text",
    "id": "8J3V015PbU4s"
   },
   "source": [
    "Let's create a small dataset for dice rolls of four players"
   ]
  },
  {
   "cell_type": "code",
   "execution_count": 30,
   "metadata": {
    "colab": {},
    "colab_type": "code",
    "id": "xrO5BbIEbU4t"
   },
   "outputs": [],
   "source": [
    "import numpy as np\n",
    "\n",
    "d1 = [5, 8, 3, 8]\n",
    "d2 = [9, 6, 8, 5]\n",
    "d3 = [8, 12, 7, 2]\n",
    "d4 = [4, 16, 7, 3]\n",
    "d5 = [3, 9, 6, 5]\n",
    "d6 = [7, 2, 5, 7]\n",
    "\n",
    "dice = np.array([d1, d2, d3, d4, d5, d6])"
   ]
  },
  {
   "cell_type": "markdown",
   "metadata": {
    "colab_type": "text",
    "id": "uF7GRMChbU4x"
   },
   "source": [
    "run the test using SciPy Stats library\n",
    "\n",
    "Depending on the test, we are generally looking for a threshold at either 0.05 or 0.01. Our test is significant (i.e. we reject the null hypothesis) if we get a p-value below our threshold.\n",
    "\n",
    "For our purposes, we’ll use 0.01 as the threshold.\n",
    "\n",
    "use stats.chi2_contingency() module \n",
    "\n",
    "This function computes the chi-square statistic and p-value for the hypothesis test of independence of the observed frequencies in the contingency table\n",
    "\n",
    "Print the following:\n",
    "\n",
    "- chi2 stat\n",
    "- p-value\n",
    "- degree of freedom\n",
    "- contingency\n",
    "\n"
   ]
  },
  {
   "cell_type": "code",
   "execution_count": 31,
   "metadata": {
    "colab": {},
    "colab_type": "code",
    "id": "vqaTIKmgbU4y"
   },
   "outputs": [
    {
     "name": "stdout",
     "output_type": "stream",
     "text": [
      "chi2 statistic  23.315671914716496\n",
      "---------------------------------\n",
      "pvalue  0.07766367301496693\n",
      "----------------------------------\n",
      "degrees of freedom 15\n",
      "----------------------------------\n",
      "contingency  [[ 5.57419355  8.20645161  5.57419355  4.64516129]\n",
      " [ 6.50322581  9.57419355  6.50322581  5.41935484]\n",
      " [ 6.73548387  9.91612903  6.73548387  5.61290323]\n",
      " [ 6.96774194 10.25806452  6.96774194  5.80645161]\n",
      " [ 5.34193548  7.86451613  5.34193548  4.4516129 ]\n",
      " [ 4.87741935  7.18064516  4.87741935  4.06451613]]\n"
     ]
    }
   ],
   "source": [
    "chi_statistic, p_value, dof, contingency = chi2_contingency(dice)\n",
    "\n",
    "print('chi2 statistic ', chi_statistic)\n",
    "print('---------------------------------')\n",
    "print('pvalue ',p_value)\n",
    "print('----------------------------------')\n",
    "print('degrees of freedom', dof)\n",
    "print('----------------------------------')\n",
    "print('contingency ', contingency)"
   ]
  },
  {
   "cell_type": "markdown",
   "metadata": {
    "colab_type": "text",
    "id": "VzyfaNoabU42"
   },
   "source": [
    "## Question 9\n",
    "\n",
    "### Z-test\n",
    "\n",
    "Get zscore on the above dice data using stats.zscore module from scipy. Convert zscore values to p-value and take mean of the array."
   ]
  },
  {
   "cell_type": "code",
   "execution_count": 32,
   "metadata": {
    "colab": {},
    "colab_type": "code",
    "id": "Sd5xPCuRbU43"
   },
   "outputs": [
    {
     "data": {
      "text/plain": [
       "array([[-0.46291005, -0.18884739, -1.83711731,  1.44115338],\n",
       "       [ 1.38873015, -0.64208114,  1.22474487,  0.        ],\n",
       "       [ 0.9258201 ,  0.7176201 ,  0.61237244, -1.44115338],\n",
       "       [-0.9258201 ,  1.62408759,  0.61237244, -0.96076892],\n",
       "       [-1.38873015,  0.03776948,  0.        ,  0.        ],\n",
       "       [ 0.46291005, -1.54854863, -0.61237244,  0.96076892]])"
      ]
     },
     "execution_count": 32,
     "metadata": {},
     "output_type": "execute_result"
    }
   ],
   "source": [
    "z_score_values = zscore(dice)\n",
    "\n",
    "z_score_values"
   ]
  },
  {
   "cell_type": "code",
   "execution_count": 33,
   "metadata": {},
   "outputs": [
    {
     "name": "stdout",
     "output_type": "stream",
     "text": [
      "[[0.64342884 0.85021243 0.06619258 0.14954135]\n",
      " [0.16491482 0.5208205  0.22067136 1.        ]\n",
      " [0.35453948 0.47299156 0.54029137 0.14954135]\n",
      " [0.35453948 0.10435712 0.54029137 0.33666837]\n",
      " [0.16491482 0.96987148 1.         1.        ]\n",
      " [0.64342884 0.12149026 0.54029137 0.33666837]]\n",
      "0.4685694646738299\n"
     ]
    }
   ],
   "source": [
    "p_values = norm.sf(abs(z_score_values)) * 2\n",
    "\n",
    "print(p_values)\n",
    "\n",
    "print(p_values.mean())"
   ]
  },
  {
   "cell_type": "markdown",
   "metadata": {
    "colab_type": "text",
    "id": "OyoFUxf5bU47"
   },
   "source": [
    "## Question 10\n",
    "\n",
    "A Paired sample t-test compares means from the same group at different times.\n",
    "\n",
    "The basic two sample t-test is designed for testing differences between independent groups. \n",
    "In some cases, you might be interested in testing differences between samples of the same group at different points in time. \n",
    "We can conduct a paired t-test using the scipy function stats.ttest_rel(). "
   ]
  },
  {
   "cell_type": "code",
   "execution_count": 34,
   "metadata": {
    "colab": {},
    "colab_type": "code",
    "id": "SwVmQ1gRbU48"
   },
   "outputs": [],
   "source": [
    "before= stats.norm.rvs(scale=30, loc=100, size=500) ## Creates a normal distribution with a mean value of 100 and std of 30\n",
    "after = before + stats.norm.rvs(scale=5, loc=-1.25, size=500)"
   ]
  },
  {
   "cell_type": "markdown",
   "metadata": {
    "colab_type": "text",
    "id": "rB_os5FjbU4_"
   },
   "source": [
    "Test whether a weight-loss drug works by checking the weights of the same group patients before and after treatment using above data."
   ]
  },
  {
   "cell_type": "markdown",
   "metadata": {},
   "source": [
    "H0 : The two groups have the same mean\n",
    "\n",
    "H1 : The two groups does not have same mean."
   ]
  },
  {
   "cell_type": "code",
   "execution_count": 35,
   "metadata": {
    "colab": {},
    "colab_type": "code",
    "id": "Fq2wyEqlbU5A"
   },
   "outputs": [
    {
     "name": "stdout",
     "output_type": "stream",
     "text": [
      "t-staistic [ 57.9386695   37.19487523  21.20564837  89.44612711 134.84769475\n",
      " 139.55797644 101.53442577  95.38730499  95.10667846  83.17788511\n",
      "  72.09280056  87.21820571 119.40187672 107.66714714 144.69145562\n",
      "  89.42517802 102.60935296 119.53901468  90.16289782  99.78029778\n",
      "  70.93526601 104.72962255  59.34608972  91.18165779  33.15402658\n",
      "  70.57520959  94.71826493 130.864295    99.4022956   58.06264499\n",
      "  94.65626948  76.18964218 142.68763262 106.10803185 112.95628015\n",
      " 148.37908031  88.62413441  83.44564469 147.19894789  70.28109735\n",
      " 146.61532105  82.40823648 156.01133098 107.81044982  74.36993478\n",
      "  86.57758345 107.0241474   93.00767405  55.72646654  69.6512034\n",
      "  72.12213398 172.14726455  64.87886398  78.01471659  60.22453524\n",
      "  70.56306132 115.7533461  100.75395251  41.80876953  93.82240198\n",
      " 130.83919668 138.24090178  96.08193629 137.25528074  96.22555\n",
      " 121.90624616 136.08573429 104.85208442 150.76141759 113.05155495\n",
      "  98.15723022 137.73302855 135.18813594 143.83067765  80.32598228\n",
      " 150.89244775  65.27090731 168.38970177  75.88444062  84.24350755\n",
      " 113.66635605  87.26891648 167.47950496  88.56254771 101.44863068\n",
      " 134.52074707  97.16151297 158.40458471 110.52359206 122.75544971\n",
      " 127.38284293 107.01739309  86.12849664 123.59820957  85.01696454\n",
      "  99.57078871 148.40583522 117.06196444  80.87815701  94.66010018\n",
      "  92.22190865  76.60199001  96.3551421   95.94587207 124.70909425\n",
      " 101.5328768  105.02618166 135.61374197  71.3775208  114.16794627\n",
      " 114.32765378  89.56216391  87.32889965 128.7076475  113.46863416\n",
      " 121.22606114  92.66450259 115.649942    73.64800017  94.92146151\n",
      "  88.45078327  85.61420927  25.06705722  86.93563336 121.71512489\n",
      " 122.01228732 161.08677376 125.43002014  56.91992862  66.63290792\n",
      " 152.70533505 167.841937   100.21005778 141.29525791 131.11533199\n",
      "  95.63659111 131.90722626 105.97872852  63.95422201 131.33292269\n",
      " 163.18997897  72.48931096 115.55715373 133.42518057 108.6820559\n",
      "  92.87825401 123.59470246  88.73381802 132.38914521 105.97334925\n",
      "  97.26652615 114.15397384 140.75937009 147.06783278  63.38936222\n",
      " 125.46799043 104.30046447 166.67276009  94.11919647 142.24892776\n",
      " 104.45245616  80.64794029 132.8298992   75.08810979  81.47896315\n",
      "  75.32846641  65.19471006  75.74450772  70.57434594  70.76147949\n",
      " 143.43621565 113.19098062  96.47575017 100.44876826  83.67039135\n",
      " 106.11652761  99.98376049 153.21706577  75.82217918  99.65937965\n",
      " 122.42318834 133.75500147  65.56397622 108.5051797   64.74010105\n",
      "  99.34527178 165.55870073 113.53593598 143.29682873  68.21847664\n",
      "  90.33043481  68.35105916  90.37299077  93.72475549 104.3260398\n",
      " 105.53069457 159.12426963 154.50616217  79.54303713  74.26569352\n",
      "  80.27506703  89.37403948 156.45917054 101.8610484  177.42491125\n",
      "  62.59344347  74.28375163  93.1645804   97.77348062  93.51406832\n",
      " 117.82548611 108.43214466 104.5506778   77.65263457  70.56884564\n",
      "  86.53097427 130.16180325 104.84209259 123.29022799  99.02577494\n",
      "  59.66818511  94.94006071  95.46751717  86.25003777 136.81251058\n",
      "  45.60090125  30.46112744 144.47546933 126.85721314 149.94242981\n",
      " 152.48396731 145.73814846  78.80132894 117.6096821   99.30345328\n",
      " 133.93253394  81.77299529 128.06270778  66.75511587 114.98699157\n",
      " 143.62400103 100.92018359  98.52316675  99.28384628 107.78629274\n",
      " 103.72396204 128.49245862 127.94417177 101.18078253  96.64824556\n",
      " 131.19725201 108.08219084 130.84472319  85.94273031  65.03833532\n",
      " 100.67379428 136.55880923 102.02683847  91.77489501 120.002693\n",
      "  60.3068039  108.99989954 112.50476227  87.86183019  82.58269377\n",
      " 106.23164976  77.22374026  43.74069053  57.63586642 118.73623042\n",
      " 141.4601589  104.0412068  145.21342918  54.18166635  76.89240677\n",
      "  66.27432955 149.19605274  98.71857309 166.77093328  87.85262218\n",
      " 106.11791926 122.79988588  93.76975454 119.35012222 117.97310733\n",
      "  15.48073714 141.3794318   68.7424997   68.24637215 114.81641277\n",
      " 131.79255198  93.91483828 116.13326356  91.04515795  92.22262887\n",
      " 112.75441535  95.7635683   68.58609     45.88201809 131.8130994\n",
      " 161.91133708  73.37434861  65.93082695  84.12138852 107.2941969\n",
      "  25.87018752 102.14846856 102.82478131  95.30211286 136.8378015\n",
      "  57.77790463 119.06563692 166.84859075 116.59875151  61.13742473\n",
      "  90.82689523  84.14497973 137.69041795 103.35649775 103.78863961\n",
      "  86.43653468  73.16556653 128.22240542 109.48492373  50.12420519\n",
      " 101.40562969 134.20142362 101.12395855 141.3667224  112.56228181\n",
      " 155.32830883 123.84192157 105.94658588 145.31054866  87.16243578\n",
      "  76.13104668  73.79248071  61.90441117 186.9604856  106.95405536\n",
      " 113.37895082 137.3199459   91.41896881  72.23932751 102.93467667\n",
      " 149.29034146  73.87843745  46.41574443 141.95035229  72.52469485\n",
      " 144.488016   109.09372005 172.05715795 102.55793245 105.79123255\n",
      " 142.51687598  82.00900179 133.49646587  84.87257283  77.38914878\n",
      "  45.65710189  97.08898503 152.20793315  74.1894689  113.07861354\n",
      "  88.87371477 100.93500462  76.02843127  42.0325661  104.34588364\n",
      " 138.64279714 152.16913496  76.19329138  96.68541603 104.60120184\n",
      "  99.1230574  126.52717357 129.50038805  97.03349468  84.09570677\n",
      " 136.43903373 120.54600488 102.52987748 112.21982491 110.27751083\n",
      " 141.233925    70.31164453  90.99033157  95.10578841  75.93480367\n",
      "  84.10707297 111.56269787  58.15990072 104.88046747 138.12598206\n",
      " 153.56475621 119.46022966 127.33359055 100.92970148 120.53984559\n",
      " 130.89738106  76.44436539 131.20783358  75.90668066  96.75060096\n",
      " 102.26515781  38.99445703 116.79354065 133.57572778 104.37887944\n",
      " 122.19910474 135.45126033  77.025198    72.43369083 103.446562\n",
      " 144.45329538 107.92627405 141.06059356 117.51938609 102.50184407\n",
      " 112.14673542  72.91272853 106.23232073 133.63573487 129.99071671\n",
      " 173.63562832  71.75193394  85.81741358  99.62902025  70.75770407\n",
      "  56.93968443 121.91688206  75.44574464 103.2313087   61.2195883\n",
      "  66.11880491  32.509579   125.9448004   51.02161599  87.96392788\n",
      " 142.1642887  109.94455387 176.33566434  62.12339985  73.37468062\n",
      "  26.6083839   92.2806503  104.13491897 112.17951272 100.28997958\n",
      "  94.81112348 131.76743742 133.16466898  48.98177057 130.57448668\n",
      "  65.85918864 133.06401031  93.78928169 117.08149132 156.95707767\n",
      "  97.31036307 155.52276384  65.48462872  49.95883694  69.54285338\n",
      "  95.83460146  77.11064066  60.5535148  120.69423202  82.25599065\n",
      "  96.21454307 119.58350586 107.20070315  80.28250752  99.59753271\n",
      "  64.14018552  72.94863302  91.40109652 108.36180834 109.33428432\n",
      " 113.50482305 101.86790269 101.48221937 150.13497743 115.99550351\n",
      " 106.10862736 115.3771766   56.47191388  29.920206   110.07929512\n",
      "  70.35810475 125.35527739 108.47751046 102.29993096  55.01090815\n",
      " 118.71723411  88.3179045   61.76496853 149.64698892 133.65170537]\n",
      "-----------------------\n",
      "p-value  1.0646141058424965e-05\n"
     ]
    }
   ],
   "source": [
    "t_statistic, p_value = ttest_rel(before,after)\n",
    "\n",
    "print('t-staistic', before)\n",
    "\n",
    "print('-----------------------')\n",
    "\n",
    "print('p-value ', p_value)"
   ]
  },
  {
   "cell_type": "markdown",
   "metadata": {},
   "source": [
    "Conclusion\n",
    "\n",
    "p-value < 0.05\n",
    "\n",
    "Reject the Null Hypothesis."
   ]
  },
  {
   "cell_type": "code",
   "execution_count": null,
   "metadata": {},
   "outputs": [],
   "source": []
  }
 ],
 "metadata": {
  "colab": {
   "collapsed_sections": [],
   "name": "R2_external-lab_hypothesis_testing_questions.ipynb",
   "provenance": [],
   "version": "0.3.2"
  },
  "kernelspec": {
   "display_name": "Python 3",
   "language": "python",
   "name": "python3"
  },
  "language_info": {
   "codemirror_mode": {
    "name": "ipython",
    "version": 3
   },
   "file_extension": ".py",
   "mimetype": "text/x-python",
   "name": "python",
   "nbconvert_exporter": "python",
   "pygments_lexer": "ipython3",
   "version": "3.7.3"
  }
 },
 "nbformat": 4,
 "nbformat_minor": 1
}
