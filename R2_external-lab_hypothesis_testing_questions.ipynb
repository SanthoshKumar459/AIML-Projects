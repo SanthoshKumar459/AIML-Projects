{
 "cells": [
  {
   "cell_type": "markdown",
   "metadata": {
    "colab_type": "text",
    "id": "xx5CxeVubU3W"
   },
   "source": [
    "# Hypothesis Testing"
   ]
  },
  {
   "cell_type": "markdown",
   "metadata": {
    "colab_type": "text",
    "id": "6OR23eWKbU3X"
   },
   "source": [
    "The purpose of the test is to tell if there is any significant difference between two data sets.\n",
    "\n"
   ]
  },
  {
   "cell_type": "markdown",
   "metadata": {
    "colab_type": "text",
    "id": "604OoWnTbU3Z"
   },
   "source": [
    "## Overview"
   ]
  },
  {
   "cell_type": "markdown",
   "metadata": {
    "colab_type": "text",
    "id": "o-il1iBSbU3b"
   },
   "source": [
    "This module covers,\n",
    "\n",
    "1) One sample and Two sample t-tests\n",
    "\n",
    "2) ANOVA\n",
    "\n",
    "3) Type I and Type II errors\n",
    "\n",
    "4) Chi-Squared Tests"
   ]
  },
  {
   "cell_type": "markdown",
   "metadata": {
    "colab_type": "text",
    "id": "G2yYl5cvbU3c"
   },
   "source": [
    "## Question 1 \n",
    "\n",
    "*A student is trying to decide between two GPUs. He want to use the GPU for his research to run Deep learning algorithms, so the only thing he is concerned with is speed.*\n",
    "\n",
    "*He picks a Deep Learning algorithm on a large data set and runs it on both GPUs 15 times, timing each run in hours. Results are given in the below lists GPU1 and GPU2.*"
   ]
  },
  {
   "cell_type": "code",
   "execution_count": 91,
   "metadata": {
    "colab": {},
    "colab_type": "code",
    "id": "ohh5XJ4ZbU3d"
   },
   "outputs": [],
   "source": [
    "from scipy import stats \n",
    "import numpy as np\n",
    "import pandas as pd"
   ]
  },
  {
   "cell_type": "code",
   "execution_count": 92,
   "metadata": {
    "colab": {},
    "colab_type": "code",
    "id": "6yGkYI6EbU3i"
   },
   "outputs": [],
   "source": [
    "GPU1 = np.array([11,9,10,11,10,12,9,11,12,9,11,12,9,10,9])\n",
    "GPU2 = np.array([11,13,10,13,12,9,11,12,12,11,12,12,10,11,13])\n",
    "\n",
    "#Assumption: Both the datasets (GPU1 & GPU 2) are random, independent, parametric & normally distributed"
   ]
  },
  {
   "cell_type": "markdown",
   "metadata": {
    "colab_type": "text",
    "id": "L55jqmIXbU3m"
   },
   "source": [
    "Hint: You can import ttest function from scipy to perform t tests "
   ]
  },
  {
   "cell_type": "markdown",
   "metadata": {
    "colab_type": "text",
    "id": "v8fsIhPFbU3n"
   },
   "source": [
    "**First T test**\n",
    "\n",
    "*One sample t-test*\n",
    "\n",
    "Check if the mean of the GPU1 is equal to zero.\n",
    "- Null Hypothesis is that mean is equal to zero.\n",
    "- Alternate hypothesis is that it is not equal to zero."
   ]
  },
  {
   "cell_type": "code",
   "execution_count": 93,
   "metadata": {
    "colab": {},
    "colab_type": "code",
    "id": "wgMSWwApbU3o"
   },
   "outputs": [],
   "source": [
    "from scipy.stats import ttest_1samp, ttest_ind,levene, f_oneway, chisquare, chi2_contingency,zscore, ttest_rel, norm"
   ]
  },
  {
   "cell_type": "code",
   "execution_count": 94,
   "metadata": {},
   "outputs": [
    {
     "data": {
      "text/plain": [
       "7.228892044970457e-15"
      ]
     },
     "execution_count": 94,
     "metadata": {},
     "output_type": "execute_result"
    }
   ],
   "source": [
    "t_statistic, p_value = ttest_1samp(GPU1,0)\n",
    "\n",
    "p_value"
   ]
  },
  {
   "cell_type": "markdown",
   "metadata": {},
   "source": [
    "As the p_value is far less than 0.05. Reject the null hypoyhesis i.e.the mean value of the GPU1 is equal to zero."
   ]
  },
  {
   "cell_type": "markdown",
   "metadata": {
    "colab_type": "text",
    "id": "byu8iw46bU3v"
   },
   "source": [
    "## Question 2"
   ]
  },
  {
   "cell_type": "markdown",
   "metadata": {
    "colab_type": "text",
    "id": "E65pzWcJbU3w"
   },
   "source": [
    "Given,\n",
    "\n",
    "Null Hypothesis : There is no significant difference between data sets\n",
    "\n",
    "Alternate Hypothesis : There is a significant difference\n",
    "\n",
    "*Do two-sample testing and check whether to reject Null Hypothesis or not.*"
   ]
  },
  {
   "cell_type": "markdown",
   "metadata": {
    "colab_type": "text",
    "id": "N-zpWvyXbU32"
   },
   "source": [
    "https://docs.scipy.org/doc/scipy/reference/generated/scipy.stats.ttest_ind.html"
   ]
  },
  {
   "cell_type": "code",
   "execution_count": 95,
   "metadata": {
    "colab": {},
    "colab_type": "code",
    "id": "UDDkuOtObU3x"
   },
   "outputs": [
    {
     "data": {
      "text/plain": [
       "0.013794282041452725"
      ]
     },
     "execution_count": 95,
     "metadata": {},
     "output_type": "execute_result"
    }
   ],
   "source": [
    "t_statistic, p_value = ttest_ind(GPU1,GPU2)\n",
    "\n",
    "p_value"
   ]
  },
  {
   "cell_type": "markdown",
   "metadata": {},
   "source": [
    "Conclusion\n",
    "\n",
    "p_value < 0.05\n",
    "\n",
    "Reject Null Hypothesis i.e.There is enough evidence in favour of Alternative Hypothesis."
   ]
  },
  {
   "cell_type": "markdown",
   "metadata": {
    "colab_type": "text",
    "id": "MbXv5aZvbU33"
   },
   "source": [
    "## Question 3\n",
    "\n",
    "He is trying a third GPU - GPU3."
   ]
  },
  {
   "cell_type": "code",
   "execution_count": 96,
   "metadata": {
    "colab": {},
    "colab_type": "code",
    "id": "kkh_sQl4bU34"
   },
   "outputs": [],
   "source": [
    "GPU3 = np.array([9,10,9,11,10,13,12,9,12,12,13,12,13,10,11])\n",
    "\n",
    "#Assumption: Both the datasets (GPU1 & GPU 3) are random, independent, parametric & normally distributed"
   ]
  },
  {
   "cell_type": "markdown",
   "metadata": {
    "colab_type": "text",
    "id": "WoYNz3g7bU37"
   },
   "source": [
    "*Do two-sample testing and check whether there is significant differene between speeds of two GPUs GPU1 and GPU3.*\n",
    "\n",
    "#### Answer:"
   ]
  },
  {
   "cell_type": "markdown",
   "metadata": {},
   "source": [
    "H0 : There is significant difference between speeds of GPU1, GPU2                                                             H1 : There is no significant difference between speeds of GPU1, GPU2"
   ]
  },
  {
   "cell_type": "code",
   "execution_count": 97,
   "metadata": {
    "colab": {},
    "colab_type": "code",
    "id": "X4N11XArbU38"
   },
   "outputs": [
    {
     "data": {
      "text/plain": [
       "Ttest_indResult(statistic=-1.4988943759093303, pvalue=0.14509210993138993)"
      ]
     },
     "execution_count": 97,
     "metadata": {},
     "output_type": "execute_result"
    }
   ],
   "source": [
    "ttest_ind(GPU1,GPU3)"
   ]
  },
  {
   "cell_type": "markdown",
   "metadata": {},
   "source": [
    "Conclusion\n",
    "1. pvalue > 0.05\n",
    "2. Do not reject null hypothesis."
   ]
  },
  {
   "cell_type": "markdown",
   "metadata": {
    "colab_type": "text",
    "id": "oyDFS4WZbU4A"
   },
   "source": [
    "## ANOVA"
   ]
  },
  {
   "cell_type": "markdown",
   "metadata": {
    "colab_type": "text",
    "id": "wknPzstFbU4B"
   },
   "source": [
    "## Question 4 \n",
    "\n",
    "If you need to compare more than two data sets at a time, an ANOVA is your best bet. \n",
    "\n",
    "*The results from three experiments with overlapping 95% confidence intervals are given below, and we want to confirm that the results for all three experiments are not significantly different.*\n",
    "\n",
    "But before conducting ANOVA, test equality of variances (using Levene's test) is satisfied or not. If not, then mention that we cannot depend on the result of ANOVA"
   ]
  },
  {
   "cell_type": "code",
   "execution_count": 98,
   "metadata": {
    "colab": {},
    "colab_type": "code",
    "id": "kGb0GeK8bU4C"
   },
   "outputs": [],
   "source": [
    "import numpy as np\n",
    "\n",
    "e1 = np.array([1.595440,1.419730,0.000000,0.000000])\n",
    "e2 = np.array([1.433800,2.079700,0.892139,2.384740])\n",
    "e3 = np.array([0.036930,0.938018,0.995956,1.006970])\n",
    "\n",
    "#Assumption: All the 3 datasets (e1,e2 & e3) are random, independent, parametric & normally distributed"
   ]
  },
  {
   "cell_type": "markdown",
   "metadata": {
    "colab_type": "text",
    "id": "_xiYN6gVbU4G"
   },
   "source": [
    "Perform levene test on the data\n",
    "\n",
    "The Levene test tests the null hypothesis that all input samples are from populations with equal variances. Levene’s test is an alternative to Bartlett’s test bartlett in the case where there are significant deviations from normality.\n",
    "\n",
    "source: scipy.org"
   ]
  },
  {
   "cell_type": "markdown",
   "metadata": {
    "colab_type": "text",
    "id": "f2MlJTXgbU4H"
   },
   "source": [
    "#### Answer:"
   ]
  },
  {
   "cell_type": "markdown",
   "metadata": {},
   "source": [
    "H0 : All Variances are equal\n",
    "\n",
    "H1 : All Variances are not equal"
   ]
  },
  {
   "cell_type": "code",
   "execution_count": 99,
   "metadata": {
    "colab": {},
    "colab_type": "code",
    "id": "VUJP_GGQbU4R"
   },
   "outputs": [
    {
     "data": {
      "text/plain": [
       "LeveneResult(statistic=2.6741725711150446, pvalue=0.12259792666001798)"
      ]
     },
     "execution_count": 99,
     "metadata": {},
     "output_type": "execute_result"
    }
   ],
   "source": [
    "levene(e1,e2,e3)"
   ]
  },
  {
   "cell_type": "markdown",
   "metadata": {},
   "source": [
    "Conclusion\n",
    "\n",
    "pvalue > 0.05\n",
    "\n",
    "Do not reject Null Hypothesis. We can depend on the result of ANOVA."
   ]
  },
  {
   "cell_type": "markdown",
   "metadata": {
    "colab_type": "text",
    "id": "FigxGCQtbU4Y"
   },
   "source": [
    "## Question 5\n",
    "\n",
    "The one-way ANOVA tests the null hypothesis that two or more groups have the same population mean. The test is applied to samples from two or more groups, possibly with differing sizes.\n",
    "\n",
    "use stats.f_oneway() module to perform one-way ANOVA test"
   ]
  },
  {
   "cell_type": "markdown",
   "metadata": {},
   "source": [
    "H0: The three groups e1, e2, e3 have the same Population mean.\n",
    "    \n",
    "H1 : The three groups e1, e2, e3 have different population mean."
   ]
  },
  {
   "cell_type": "code",
   "execution_count": 100,
   "metadata": {
    "colab": {},
    "colab_type": "code",
    "id": "P3bPYPCbbU4Z"
   },
   "outputs": [
    {
     "name": "stdout",
     "output_type": "stream",
     "text": [
      "F value 2.51357622845924\n",
      "P value 0.13574644501798466\n"
     ]
    }
   ],
   "source": [
    "f,p = f_oneway(e1,e2,e3)\n",
    "\n",
    "print('F value',f)\n",
    "print('P value',p)"
   ]
  },
  {
   "cell_type": "markdown",
   "metadata": {},
   "source": [
    "Since pvalue > 0.05. Do not reject null hypothesis. We can say that the groups e1, e2, e3 have the same population mean."
   ]
  },
  {
   "cell_type": "markdown",
   "metadata": {
    "colab_type": "text",
    "id": "yrMK1qb7bU4j"
   },
   "source": [
    "## Question 6\n",
    "\n",
    "*In one or two sentences explain about **TypeI** and **TypeII** errors.*\n",
    "\n",
    "#### Answer:"
   ]
  },
  {
   "cell_type": "markdown",
   "metadata": {
    "colab_type": "text",
    "id": "H08OGwdIbU4k"
   },
   "source": [
    "Type-I Error\n",
    "\n",
    "    A Type-I Error occurs when the hypothesis testing concluded to reject the null hypothesis but actually it is not supposed to be rejected. In this scenario, we will take up some corrective measures for the process to which hypothesis testing is conducted even though not required.\n",
    "    \n",
    "Type-II Error\n",
    "\n",
    "    A Type-II Error occurs when the hypothesis testing concluded do not reject the null hypothesis but actually it is supposed to be rejected. In this scenario, we will not take up any corrective measures for the process to which the hypothesis testing is conducted even though required."
   ]
  },
  {
   "cell_type": "markdown",
   "metadata": {
    "colab_type": "text",
    "id": "hm7v3pcIbU4m"
   },
   "source": [
    "## Question 7 \n",
    "\n",
    "You are a manager of a chinese restaurant. You want to determine whether the waiting time to place an order has changed in the past month from its previous population mean value of 4.5 minutes. \n",
    "State the null and alternative hypothesis.\n",
    "\n",
    "#### Answer:\n"
   ]
  },
  {
   "cell_type": "markdown",
   "metadata": {
    "colab_type": "text",
    "id": "pbbaU2I4bU4n"
   },
   "source": [
    "H0 : The waiting time to place an order has changed.(u not equal to 4.5)\n",
    "\n",
    "H1 : The waiting time to place an order has not changed (u is equal to 4.5)"
   ]
  },
  {
   "cell_type": "markdown",
   "metadata": {
    "colab_type": "text",
    "id": "1SGpq-dKbU4r"
   },
   "source": [
    "## Chi square test"
   ]
  },
  {
   "cell_type": "markdown",
   "metadata": {
    "colab_type": "text",
    "id": "WlxmIu_rdgpc"
   },
   "source": [
    "## Question 8"
   ]
  },
  {
   "cell_type": "markdown",
   "metadata": {
    "colab_type": "text",
    "id": "8J3V015PbU4s"
   },
   "source": [
    "Let's create a small dataset for dice rolls of four players"
   ]
  },
  {
   "cell_type": "code",
   "execution_count": 101,
   "metadata": {
    "colab": {},
    "colab_type": "code",
    "id": "xrO5BbIEbU4t"
   },
   "outputs": [],
   "source": [
    "import numpy as np\n",
    "\n",
    "d1 = [5, 8, 3, 8]\n",
    "d2 = [9, 6, 8, 5]\n",
    "d3 = [8, 12, 7, 2]\n",
    "d4 = [4, 16, 7, 3]\n",
    "d5 = [3, 9, 6, 5]\n",
    "d6 = [7, 2, 5, 7]\n",
    "\n",
    "dice = np.array([d1, d2, d3, d4, d5, d6])"
   ]
  },
  {
   "cell_type": "markdown",
   "metadata": {
    "colab_type": "text",
    "id": "uF7GRMChbU4x"
   },
   "source": [
    "run the test using SciPy Stats library\n",
    "\n",
    "Depending on the test, we are generally looking for a threshold at either 0.05 or 0.01. Our test is significant (i.e. we reject the null hypothesis) if we get a p-value below our threshold.\n",
    "\n",
    "For our purposes, we’ll use 0.01 as the threshold.\n",
    "\n",
    "use stats.chi2_contingency() module \n",
    "\n",
    "This function computes the chi-square statistic and p-value for the hypothesis test of independence of the observed frequencies in the contingency table\n",
    "\n",
    "Print the following:\n",
    "\n",
    "- chi2 stat\n",
    "- p-value\n",
    "- degree of freedom\n",
    "- contingency\n",
    "\n"
   ]
  },
  {
   "cell_type": "code",
   "execution_count": 102,
   "metadata": {},
   "outputs": [
    {
     "data": {
      "text/html": [
       "<div>\n",
       "<style scoped>\n",
       "    .dataframe tbody tr th:only-of-type {\n",
       "        vertical-align: middle;\n",
       "    }\n",
       "\n",
       "    .dataframe tbody tr th {\n",
       "        vertical-align: top;\n",
       "    }\n",
       "\n",
       "    .dataframe thead th {\n",
       "        text-align: right;\n",
       "    }\n",
       "</style>\n",
       "<table border=\"1\" class=\"dataframe\">\n",
       "  <thead>\n",
       "    <tr style=\"text-align: right;\">\n",
       "      <th></th>\n",
       "      <th>p1</th>\n",
       "      <th>p2</th>\n",
       "      <th>p3</th>\n",
       "      <th>p4</th>\n",
       "    </tr>\n",
       "  </thead>\n",
       "  <tbody>\n",
       "    <tr>\n",
       "      <th>d1</th>\n",
       "      <td>5</td>\n",
       "      <td>8</td>\n",
       "      <td>3</td>\n",
       "      <td>8</td>\n",
       "    </tr>\n",
       "    <tr>\n",
       "      <th>d2</th>\n",
       "      <td>9</td>\n",
       "      <td>6</td>\n",
       "      <td>8</td>\n",
       "      <td>5</td>\n",
       "    </tr>\n",
       "    <tr>\n",
       "      <th>d3</th>\n",
       "      <td>8</td>\n",
       "      <td>12</td>\n",
       "      <td>7</td>\n",
       "      <td>2</td>\n",
       "    </tr>\n",
       "    <tr>\n",
       "      <th>d4</th>\n",
       "      <td>4</td>\n",
       "      <td>16</td>\n",
       "      <td>7</td>\n",
       "      <td>3</td>\n",
       "    </tr>\n",
       "    <tr>\n",
       "      <th>d5</th>\n",
       "      <td>3</td>\n",
       "      <td>9</td>\n",
       "      <td>6</td>\n",
       "      <td>5</td>\n",
       "    </tr>\n",
       "    <tr>\n",
       "      <th>d6</th>\n",
       "      <td>7</td>\n",
       "      <td>2</td>\n",
       "      <td>5</td>\n",
       "      <td>7</td>\n",
       "    </tr>\n",
       "  </tbody>\n",
       "</table>\n",
       "</div>"
      ],
      "text/plain": [
       "    p1  p2  p3  p4\n",
       "d1   5   8   3   8\n",
       "d2   9   6   8   5\n",
       "d3   8  12   7   2\n",
       "d4   4  16   7   3\n",
       "d5   3   9   6   5\n",
       "d6   7   2   5   7"
      ]
     },
     "execution_count": 102,
     "metadata": {},
     "output_type": "execute_result"
    }
   ],
   "source": [
    "df = pd.DataFrame(dice,index=['d1','d2','d3','d4','d5','d6'],columns=['p1','p2','p3','p4'])\n",
    "df"
   ]
  },
  {
   "cell_type": "code",
   "execution_count": 103,
   "metadata": {},
   "outputs": [
    {
     "data": {
      "text/html": [
       "<div>\n",
       "<style scoped>\n",
       "    .dataframe tbody tr th:only-of-type {\n",
       "        vertical-align: middle;\n",
       "    }\n",
       "\n",
       "    .dataframe tbody tr th {\n",
       "        vertical-align: top;\n",
       "    }\n",
       "\n",
       "    .dataframe thead tr th {\n",
       "        text-align: left;\n",
       "    }\n",
       "\n",
       "    .dataframe thead tr:last-of-type th {\n",
       "        text-align: right;\n",
       "    }\n",
       "</style>\n",
       "<table border=\"1\" class=\"dataframe\">\n",
       "  <thead>\n",
       "    <tr>\n",
       "      <th>p1</th>\n",
       "      <th>3</th>\n",
       "      <th>4</th>\n",
       "      <th>5</th>\n",
       "      <th>7</th>\n",
       "      <th>8</th>\n",
       "      <th>9</th>\n",
       "    </tr>\n",
       "    <tr>\n",
       "      <th>p2</th>\n",
       "      <th>9</th>\n",
       "      <th>16</th>\n",
       "      <th>8</th>\n",
       "      <th>2</th>\n",
       "      <th>12</th>\n",
       "      <th>6</th>\n",
       "    </tr>\n",
       "    <tr>\n",
       "      <th>p3</th>\n",
       "      <th>6</th>\n",
       "      <th>7</th>\n",
       "      <th>3</th>\n",
       "      <th>5</th>\n",
       "      <th>7</th>\n",
       "      <th>8</th>\n",
       "    </tr>\n",
       "    <tr>\n",
       "      <th>p4</th>\n",
       "      <th>5</th>\n",
       "      <th>3</th>\n",
       "      <th>8</th>\n",
       "      <th>7</th>\n",
       "      <th>2</th>\n",
       "      <th>5</th>\n",
       "    </tr>\n",
       "    <tr>\n",
       "      <th>row_0</th>\n",
       "      <th></th>\n",
       "      <th></th>\n",
       "      <th></th>\n",
       "      <th></th>\n",
       "      <th></th>\n",
       "      <th></th>\n",
       "    </tr>\n",
       "  </thead>\n",
       "  <tbody>\n",
       "    <tr>\n",
       "      <th>d1</th>\n",
       "      <td>0</td>\n",
       "      <td>0</td>\n",
       "      <td>1</td>\n",
       "      <td>0</td>\n",
       "      <td>0</td>\n",
       "      <td>0</td>\n",
       "    </tr>\n",
       "    <tr>\n",
       "      <th>d2</th>\n",
       "      <td>0</td>\n",
       "      <td>0</td>\n",
       "      <td>0</td>\n",
       "      <td>0</td>\n",
       "      <td>0</td>\n",
       "      <td>1</td>\n",
       "    </tr>\n",
       "    <tr>\n",
       "      <th>d3</th>\n",
       "      <td>0</td>\n",
       "      <td>0</td>\n",
       "      <td>0</td>\n",
       "      <td>0</td>\n",
       "      <td>1</td>\n",
       "      <td>0</td>\n",
       "    </tr>\n",
       "    <tr>\n",
       "      <th>d4</th>\n",
       "      <td>0</td>\n",
       "      <td>1</td>\n",
       "      <td>0</td>\n",
       "      <td>0</td>\n",
       "      <td>0</td>\n",
       "      <td>0</td>\n",
       "    </tr>\n",
       "    <tr>\n",
       "      <th>d5</th>\n",
       "      <td>1</td>\n",
       "      <td>0</td>\n",
       "      <td>0</td>\n",
       "      <td>0</td>\n",
       "      <td>0</td>\n",
       "      <td>0</td>\n",
       "    </tr>\n",
       "    <tr>\n",
       "      <th>d6</th>\n",
       "      <td>0</td>\n",
       "      <td>0</td>\n",
       "      <td>0</td>\n",
       "      <td>1</td>\n",
       "      <td>0</td>\n",
       "      <td>0</td>\n",
       "    </tr>\n",
       "  </tbody>\n",
       "</table>\n",
       "</div>"
      ],
      "text/plain": [
       "p1     3  4  5  7  8  9\n",
       "p2    9  16 8  2  12 6 \n",
       "p3     6  7  3  5  7  8\n",
       "p4     5  3  8  7  2  5\n",
       "row_0                  \n",
       "d1     0  0  1  0  0  0\n",
       "d2     0  0  0  0  0  1\n",
       "d3     0  0  0  0  1  0\n",
       "d4     0  1  0  0  0  0\n",
       "d5     1  0  0  0  0  0\n",
       "d6     0  0  0  1  0  0"
      ]
     },
     "execution_count": 103,
     "metadata": {},
     "output_type": "execute_result"
    }
   ],
   "source": [
    "cont_table = pd.crosstab(index=df.index, columns=[df['p1'],df['p2'],df['p3'],df['p4']])\n",
    "\n",
    "cont_table"
   ]
  },
  {
   "cell_type": "code",
   "execution_count": 104,
   "metadata": {
    "colab": {},
    "colab_type": "code",
    "id": "vqaTIKmgbU4y"
   },
   "outputs": [
    {
     "name": "stdout",
     "output_type": "stream",
     "text": [
      "chi2 statistic  30.00000000000001\n",
      "---------------------------------\n",
      "pvalue  0.22428900483440337\n",
      "----------------------------------\n",
      "degrees of freedom 25\n",
      "----------------------------------\n",
      "contingency  [[0.16666667 0.16666667 0.16666667 0.16666667 0.16666667 0.16666667]\n",
      " [0.16666667 0.16666667 0.16666667 0.16666667 0.16666667 0.16666667]\n",
      " [0.16666667 0.16666667 0.16666667 0.16666667 0.16666667 0.16666667]\n",
      " [0.16666667 0.16666667 0.16666667 0.16666667 0.16666667 0.16666667]\n",
      " [0.16666667 0.16666667 0.16666667 0.16666667 0.16666667 0.16666667]\n",
      " [0.16666667 0.16666667 0.16666667 0.16666667 0.16666667 0.16666667]]\n"
     ]
    }
   ],
   "source": [
    "chi_statistic, p_value, dof, contingency = chi2_contingency(cont_table)\n",
    "\n",
    "print('chi2 statistic ', chi_statistic)\n",
    "print('---------------------------------')\n",
    "print('pvalue ',p_value)\n",
    "print('----------------------------------')\n",
    "print('degrees of freedom', dof)\n",
    "print('----------------------------------')\n",
    "print('contingency ', contingency)"
   ]
  },
  {
   "cell_type": "markdown",
   "metadata": {
    "colab_type": "text",
    "id": "VzyfaNoabU42"
   },
   "source": [
    "## Question 9\n",
    "\n",
    "### Z-test\n",
    "\n",
    "Get zscore on the above dice data using stats.zscore module from scipy. Convert zscore values to p-value and take mean of the array."
   ]
  },
  {
   "cell_type": "code",
   "execution_count": 105,
   "metadata": {
    "colab": {},
    "colab_type": "code",
    "id": "Sd5xPCuRbU43"
   },
   "outputs": [
    {
     "data": {
      "text/plain": [
       "array([[-0.46291005, -0.18884739, -1.83711731,  1.44115338],\n",
       "       [ 1.38873015, -0.64208114,  1.22474487,  0.        ],\n",
       "       [ 0.9258201 ,  0.7176201 ,  0.61237244, -1.44115338],\n",
       "       [-0.9258201 ,  1.62408759,  0.61237244, -0.96076892],\n",
       "       [-1.38873015,  0.03776948,  0.        ,  0.        ],\n",
       "       [ 0.46291005, -1.54854863, -0.61237244,  0.96076892]])"
      ]
     },
     "execution_count": 105,
     "metadata": {},
     "output_type": "execute_result"
    }
   ],
   "source": [
    "z_score_values = zscore(dice)\n",
    "\n",
    "z_score_values"
   ]
  },
  {
   "cell_type": "code",
   "execution_count": 106,
   "metadata": {},
   "outputs": [
    {
     "name": "stdout",
     "output_type": "stream",
     "text": [
      "[[0.64342884 0.85021243 0.06619258 0.14954135]\n",
      " [0.16491482 0.5208205  0.22067136 1.        ]\n",
      " [0.35453948 0.47299156 0.54029137 0.14954135]\n",
      " [0.35453948 0.10435712 0.54029137 0.33666837]\n",
      " [0.16491482 0.96987148 1.         1.        ]\n",
      " [0.64342884 0.12149026 0.54029137 0.33666837]]\n",
      "0.4685694646738299\n"
     ]
    }
   ],
   "source": [
    "p_values = norm.sf(abs(z_score_values)) * 2\n",
    "\n",
    "print(p_values)\n",
    "\n",
    "print(p_values.mean())"
   ]
  },
  {
   "cell_type": "markdown",
   "metadata": {
    "colab_type": "text",
    "id": "OyoFUxf5bU47"
   },
   "source": [
    "## Question 10\n",
    "\n",
    "A Paired sample t-test compares means from the same group at different times.\n",
    "\n",
    "The basic two sample t-test is designed for testing differences between independent groups. \n",
    "In some cases, you might be interested in testing differences between samples of the same group at different points in time. \n",
    "We can conduct a paired t-test using the scipy function stats.ttest_rel(). "
   ]
  },
  {
   "cell_type": "code",
   "execution_count": 107,
   "metadata": {
    "colab": {},
    "colab_type": "code",
    "id": "SwVmQ1gRbU48"
   },
   "outputs": [],
   "source": [
    "before= stats.norm.rvs(scale=30, loc=100, size=500) ## Creates a normal distribution with a mean value of 100 and std of 30\n",
    "after = before + stats.norm.rvs(scale=5, loc=-1.25, size=500)"
   ]
  },
  {
   "cell_type": "markdown",
   "metadata": {
    "colab_type": "text",
    "id": "rB_os5FjbU4_"
   },
   "source": [
    "Test whether a weight-loss drug works by checking the weights of the same group patients before and after treatment using above data."
   ]
  },
  {
   "cell_type": "markdown",
   "metadata": {},
   "source": [
    "H0 : The two groups have the same mean\n",
    "\n",
    "H1 : The two groups does not have same mean."
   ]
  },
  {
   "cell_type": "code",
   "execution_count": 108,
   "metadata": {
    "colab": {},
    "colab_type": "code",
    "id": "Fq2wyEqlbU5A"
   },
   "outputs": [
    {
     "name": "stdout",
     "output_type": "stream",
     "text": [
      "t-staistic [103.86094929  33.5724115   83.00953462  89.39526115  64.12181983\n",
      " 127.30242687 107.19245368 104.35345894 107.90208473  81.99227998\n",
      "  78.4347825  144.25373639  86.20463027  57.67874131  96.58889521\n",
      " 114.67110873 106.08649395 108.61035824 125.95525564  95.63828273\n",
      "  82.29638585  96.50683424 105.46349977 134.57073633  79.10021592\n",
      "  84.33619459  91.74168312  75.37112206 112.54331328 117.44062699\n",
      " 133.52583982  70.05065697  86.67744615  97.92524184 130.91902966\n",
      " 117.04797627 145.063642    91.26959319  45.32282102 108.76259876\n",
      "  75.20715927 166.01649664 118.11739503 120.16016747 121.51869386\n",
      "  59.75227998 145.43449506 103.06557393 119.30786825  77.05084789\n",
      " 128.44350657  86.21216319 176.43048058 118.29006993  57.73520665\n",
      "  93.03846238  90.33556661  64.54349005  46.24923901 121.74212111\n",
      "  51.1568563   96.35477211  86.77470943 128.29762398 128.16605158\n",
      "  56.47685355 100.84511914 132.07098715 139.42655864  79.15477515\n",
      " 104.32290197  51.4051223   66.423534    87.72298161 130.60968638\n",
      " 143.3531394   73.07883966  72.50865351  90.66974106 111.06555219\n",
      " 119.58745073  96.52100748  80.31058654  98.54346299 125.10815628\n",
      " 106.44034606  91.86550352 132.3162809   78.83921227 134.53264187\n",
      " 106.41618067  71.76579169  81.74769556  37.76857066 124.55354558\n",
      " 111.04208114  52.99085291  92.42151765 145.33387624  97.00748344\n",
      "  63.47615906 127.84279374  88.41187451 129.66952844  70.28872398\n",
      "  79.47425396  73.61010206  69.9913546   91.00475654  73.12696809\n",
      " 127.43539357 104.51679213 106.09403493 121.02527536  61.20675775\n",
      "  98.76310238 123.41530697 112.99733106 105.78380317 124.99722277\n",
      " 103.32375265  50.62320183  79.01708412  80.56218025  93.29245164\n",
      " 116.18515189  68.67888323 124.52156666 101.59411939  92.19155188\n",
      "  47.39303328  79.11019261 120.29102316 145.672775   125.79187688\n",
      "  72.41590391 138.09015941  70.73291858 162.65538592  70.78848548\n",
      "  68.28756685 108.27343857  93.70385837  80.44803213  68.82945834\n",
      " 142.98681474  81.79866516  98.7577504  115.61259506 131.85292642\n",
      "  85.23733336 135.2404855   20.8917663   45.33339411  71.01183994\n",
      "  71.67122636  91.93785856  71.10089778  76.89472622  76.29097497\n",
      " 115.27127911  50.14237267  78.84347988  48.38288682  48.9277489\n",
      " 125.58111415  92.70195981  73.24540424 103.97192682 164.29863426\n",
      "  63.05716028  75.99171447 126.50424286  51.29088538  46.87555128\n",
      " 128.75275762 110.9731846   53.86799595 135.87860546  60.62181487\n",
      "  93.37298625  86.18919624 114.27715438  89.50425134 120.08873237\n",
      " 116.23139437  92.25173082  56.10997859  44.67147399 116.26696109\n",
      " 103.70972083  76.96498067  84.40440146 122.64594854 156.20971613\n",
      " 111.6194521   75.41937598 110.3771701  103.36628227  80.74929399\n",
      "  67.64947839 149.11884633  89.25435439  92.8235244  122.23378498\n",
      "  97.67684383 109.88605638 107.19422319 117.28941697 158.56405388\n",
      "  85.5214777  149.566062   118.55904851 116.14540698  61.1629131\n",
      "  63.55361858  88.33137589 148.8645388   86.70634895  58.23964859\n",
      "  54.03607929  71.63631117  55.92128097  95.58798766 132.59522483\n",
      " 104.52597375  87.62753765 127.913153   119.47064693  96.19164546\n",
      " 112.69109197  89.06553418 123.19046622  86.90500294  58.77868261\n",
      "  78.27563862 106.57544415 159.43652318 142.29691269  94.94897132\n",
      " 123.5866093  137.69505866  78.20396032 169.10720042 112.1560357\n",
      " 106.05415128  97.20457195  44.554152    82.9061711  108.20784117\n",
      " 126.21188514  95.85903767 112.0400101  118.83760997  67.2074754\n",
      " 107.11668511  30.38769324  69.94788738 145.03451629 132.27425979\n",
      "  76.96376524  95.65233763  98.82370065 132.29835029  57.98237802\n",
      "  97.28141176  62.20038018 121.58295096 117.30427854  81.6518485\n",
      "  94.63217918  87.30848556 141.27574408 164.70131696 140.9147998\n",
      " 132.4137497   92.45086619  45.3057828   61.25850344 133.63183077\n",
      "  85.194324   109.38766358  81.45531589 105.79470728 127.25204688\n",
      "  84.94001508  83.65734977  75.50893317 169.25230084  97.14705728\n",
      "  78.42603194  86.63397632 100.20491475  92.36251831  24.10449909\n",
      "  91.12992646  50.29767514 114.88864862  97.46197342  91.49550139\n",
      "  71.44841635 100.83105865  90.40243505 127.86143397  94.06284443\n",
      " 110.1215329   99.30295117  82.27857835 151.87840976  73.36608217\n",
      "  89.84947713 123.55974937 106.92926475  83.90728831 121.81723417\n",
      " 120.58749917 114.95431516 107.54369293 106.1293876  112.61877069\n",
      "  98.5084354  132.58569505  79.0388705  152.50979216 117.07630984\n",
      "  99.08399835  48.60853411 161.08129106  35.65083826 115.99217319\n",
      " 127.99863856 133.58311646 128.53086016  72.24905852 121.57866233\n",
      " 127.19947534 113.25493472  70.42764315  72.84431451 100.72166258\n",
      " 123.8109067   86.61568405  98.34123394  81.41844708  78.63982114\n",
      "  95.7368456  125.96577842  57.19494313 135.17996109 155.73532956\n",
      "  39.81851571  70.66681202  67.5513789  116.31070418  28.14993384\n",
      " 116.77000947 119.5044461  128.9207932  128.30032711  56.48480872\n",
      " 114.15081031  84.44315207 119.86924204  71.50895546 102.16191212\n",
      " 120.71457854 120.03132217  92.22403272  95.02602657  51.32792172\n",
      "  91.95264156  53.66510367 133.59072558  85.71029906 123.91732943\n",
      " 150.96052287  64.72099865 117.54302476 118.26091938 125.54493246\n",
      " 119.35926051 163.56650532  85.31008448  82.60857541 107.80310056\n",
      "  72.16517249 111.27397226 152.8534009  150.10440838 133.39723369\n",
      "  88.26946829 120.69074342 119.67897707 115.28724548 168.38437967\n",
      "  95.27383367 105.14139836  77.10238778 119.14169904  79.50081729\n",
      " 138.06538507  80.47131672  48.61575341 107.64386722 125.82251044\n",
      " 118.82992548  43.8835759   78.64767003  68.09250936  95.0673825\n",
      " 163.55945431  80.09925291 118.46827137  88.83347947  79.13713825\n",
      "  99.07866869 141.030951    81.00970107  77.19850324  79.11130347\n",
      "  86.80303156  99.45997436 115.05046786 121.10066091  73.96176386\n",
      "  55.26028039  93.98397418  59.06883392  93.25000147  56.03738179\n",
      " 100.72085859 142.40467349 101.4391463  124.40162087  35.64417836\n",
      "  39.62959437  52.34670268  76.3034377  117.37657255 146.70548743\n",
      " 113.77869015 194.52750516 119.92947506 111.86910745  35.08414979\n",
      "  95.35549531  67.23953973  57.156883   134.61559735  93.00584692\n",
      "  60.09542134 110.85720028 136.96970453 112.24075344 116.25621375\n",
      " 153.0842318  107.80410199  66.97570519  84.43087556  56.60847825\n",
      " 134.94874665 120.49540354 104.08484246 133.12832093  61.41105036\n",
      " 149.32288251 143.12643812 147.05253558  95.16663977 147.40509329\n",
      "  85.16446333  55.93698887  95.45921391 112.80083818  80.48723838\n",
      " 172.14805158  81.76714225  78.6191206   40.70327396 117.3942161\n",
      "  70.17422794 118.98386712 102.27972904  99.4193405  113.81166262\n",
      " 111.84421683 108.07932862  85.87155409  63.1594834   79.00526225\n",
      " 133.9871026  112.90624945  47.20842794 110.16488083 114.20601833\n",
      "  79.29434577 142.59432999  54.77368749  93.80353628  69.23596303]\n",
      "-----------------------\n",
      "p-value  1.1219642026716988e-05\n"
     ]
    }
   ],
   "source": [
    "t_statistic, p_value = ttest_rel(before,after)\n",
    "\n",
    "print('t-staistic', before)\n",
    "\n",
    "print('-----------------------')\n",
    "\n",
    "print('p-value ', p_value)"
   ]
  },
  {
   "cell_type": "markdown",
   "metadata": {},
   "source": [
    "Conclusion\n",
    "\n",
    "p-value < 0.05\n",
    "\n",
    "Reject the Null Hypothesis."
   ]
  },
  {
   "cell_type": "code",
   "execution_count": null,
   "metadata": {},
   "outputs": [],
   "source": []
  }
 ],
 "metadata": {
  "colab": {
   "collapsed_sections": [],
   "name": "R2_external-lab_hypothesis_testing_questions.ipynb",
   "provenance": [],
   "version": "0.3.2"
  },
  "kernelspec": {
   "display_name": "Python 3",
   "language": "python",
   "name": "python3"
  },
  "language_info": {
   "codemirror_mode": {
    "name": "ipython",
    "version": 3
   },
   "file_extension": ".py",
   "mimetype": "text/x-python",
   "name": "python",
   "nbconvert_exporter": "python",
   "pygments_lexer": "ipython3",
   "version": "3.7.3"
  }
 },
 "nbformat": 4,
 "nbformat_minor": 1
}
